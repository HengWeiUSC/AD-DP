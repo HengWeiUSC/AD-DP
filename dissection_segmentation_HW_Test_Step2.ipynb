{
 "cells": [
  {
   "cell_type": "markdown",
   "id": "fac37d5f",
   "metadata": {},
   "source": [
    "# Aortic Dissection Auto-segmentation for Computed Tomography (CT) "
   ]
  },
  {
   "cell_type": "markdown",
   "id": "967d9d91",
   "metadata": {},
   "source": [
    "This notebook is prepared for step-by-step description of auto-segmentation from the CT images of aortic dissection patients underwent TEVAR in Keck medical center."
   ]
  },
  {
   "cell_type": "code",
   "execution_count": 1,
   "id": "10319869",
   "metadata": {},
   "outputs": [],
   "source": [
    "# Import Packages\n",
    "\n",
    "import numpy as np\n",
    "import pandas as pd\n",
    "import nibabel as nib\n",
    "import matplotlib.pyplot as plt\n",
    "import json\n",
    "import cv2\n",
    "import imageio\n",
    "import os, glob\n",
    "from PIL import Image\n",
    "\n",
    "import tensorflow as tf\n",
    "from tensorflow import keras\n",
    "from tensorflow.keras import backend as K \n",
    "from tensorflow.keras.utils import to_categorical\n",
    "from tensorflow.keras.preprocessing.image import ImageDataGenerator \n",
    "\n",
    "\n",
    "import seaborn as sns\n",
    "import umetrics"
   ]
  },
  {
   "cell_type": "code",
   "execution_count": 2,
   "id": "8c4ac1a9",
   "metadata": {},
   "outputs": [],
   "source": [
    "# AD-DP=============================\n",
    "\n",
    "#Step1:Defining the Input and Output\n",
    "\n",
    "#Defining the general directory of the data\n",
    "mode='test'\n",
    "\n",
    "dataInputPath = 'volumes'\n",
    "if mode=='train':\n",
    "    imagePathInput = os.path.join(dataInputPath, 'img/')\n",
    "    maskPathInput = os.path.join(dataInputPath, 'mask/')\n",
    "else:\n",
    "    imagePathInput = os.path.join(dataInputPath, 'img_test/')\n",
    "    maskPathInput = os.path.join(dataInputPath, 'mask_test/')\n",
    "\n",
    "P_3=13-1 #patient 3 use Y instead of Z\n",
    "\n",
    "if mode=='train':\n",
    "    dataOutputPath = 'slices/training/'\n",
    "else:\n",
    "    dataOutputPath = 'slices/test/'\n",
    "imageSliceOutput = os.path.join(dataOutputPath, 'img/img/')\n",
    "maskSliceOutput = os.path.join(dataOutputPath, 'mask/img/')\n",
    "\n",
    "#Step2:Normalizing the CT Images Using Hounsfield Transformation\n",
    "\n",
    "#Normalize image\n",
    "HOUNSFIELD_MIN = -1000\n",
    "HOUNSFIELD_MAX = 2000\n",
    "HOUNSFIELD_RANGE = HOUNSFIELD_MAX - HOUNSFIELD_MIN\n",
    "\n",
    "#Step3:Slicing and saving\n",
    "\n",
    "# Slice image in all directions and save\n",
    "SLICE_X = False\n",
    "SLICE_Y = True\n",
    "SLICE_Z = True\n",
    "\n",
    "SLICE_DECIMATE_IDENTIFIER = 3\n",
    "\n",
    "#Sample Image\n",
    "if mode=='train':\n",
    "    imgPath = os.path.join(imagePathInput, 'P10_CTA_Chest_09_27.nii' )\n",
    "    maskPath = os.path.join(maskPathInput, 'P10_Segmentation_09_27.nii' )\n",
    "else:\n",
    "    imgPath = os.path.join(imagePathInput, 'P12_CTA_Chest_09_28.nii' )\n",
    "    maskPath = os.path.join(maskPathInput, 'P12_Segmentation_09_28.nii' )\n",
    "if mode=='train':\n",
    "    MaskThreshold=500.0\n",
    "else:\n",
    "    MaskThreshold=500.0"
   ]
  },
  {
   "cell_type": "code",
   "execution_count": 3,
   "id": "0ccbe82e",
   "metadata": {},
   "outputs": [
    {
     "data": {
      "text/plain": [
       "(-1024.0, 3021.0, (179, 79, 374), numpy.memmap)"
      ]
     },
     "execution_count": 3,
     "metadata": {},
     "output_type": "execute_result"
    }
   ],
   "source": [
    "# Load image and see max min Hounsfield units\n",
    "#imgPath = os.path.join(imagePathInput, 'tooth1.nii')\n",
    "img = nib.load(imgPath).get_fdata()\n",
    "np.min(img), np.max(img), img.shape, type(img)"
   ]
  },
  {
   "cell_type": "code",
   "execution_count": 4,
   "id": "cddb4335",
   "metadata": {},
   "outputs": [
    {
     "data": {
      "text/plain": [
       "(0.0, 1.0, (179, 79, 374), numpy.memmap)"
      ]
     },
     "execution_count": 4,
     "metadata": {},
     "output_type": "execute_result"
    }
   ],
   "source": [
    "# Load image mask and see max min Hounsfield units\n",
    "#maskPath = os.path.join(maskPathInput, 'tooth1.nii')\n",
    "mask = nib.load(maskPath).get_fdata()\n",
    "np.min(mask), np.max(mask), mask.shape, type(mask)"
   ]
  },
  {
   "cell_type": "code",
   "execution_count": 5,
   "id": "5ad4cdbe",
   "metadata": {},
   "outputs": [
    {
     "data": {
      "image/png": "[encoded data removed]",
      "text/plain": [
       "<Figure size 432x288 with 1 Axes>"
      ]
     },
     "metadata": {
      "needs_background": "light"
     },
     "output_type": "display_data"
    },
    {
     "data": {
      "application/vnd.jupyter.widget-view+json": {
       "model_id": "c6ce768d8914472891dffe0e2e65c967",
       "version_major": 2,
       "version_minor": 0
      },
      "text/plain": [
       "interactive(children=(IntSlider(value=0, description='n', max=78), Output()), _dom_classes=('widget-interact',…"
      ]
     },
     "metadata": {},
     "output_type": "display_data"
    },
    {
     "data": {
      "application/vnd.jupyter.widget-view+json": {
       "model_id": "567eedf9b9324a9fbfa86ff6ec998939",
       "version_major": 2,
       "version_minor": 0
      },
      "text/plain": [
       "interactive(children=(IntSlider(value=0, description='n', max=373), Output()), _dom_classes=('widget-interact'…"
      ]
     },
     "metadata": {},
     "output_type": "display_data"
    }
   ],
   "source": [
    "# Show image slice\n",
    "imgSlice = mask[:,50,:]\n",
    "plt.imshow(imgSlice, cmap='gray')\n",
    "plt.show()\n",
    "\n",
    "from ipywidgets import interact\n",
    "\n",
    "@interact(n=(0, len(mask[0])-1))\n",
    "def display_faces(n=0):\n",
    "    #plt.figure()\n",
    "    plt.imshow(mask[:, n, :], cmap='gray')\n",
    "    plt.show()\n",
    "    print(np.sum(mask[:, n, :]))\n",
    "\n",
    "@interact(n=(0, len(mask[0][0])-1))\n",
    "def display_faces(n=0):\n",
    "    #plt.figure()\n",
    "    plt.imshow(mask[:, :, n], cmap='gray')\n",
    "    plt.show()\n",
    "    print(np.sum(mask[:, :, n]))"
   ]
  },
  {
   "cell_type": "code",
   "execution_count": 6,
   "id": "570b76be",
   "metadata": {},
   "outputs": [
    {
     "data": {
      "text/plain": [
       "(0.0, 1.0, (179, 79, 374), numpy.ndarray)"
      ]
     },
     "execution_count": 6,
     "metadata": {},
     "output_type": "execute_result"
    }
   ],
   "source": [
    "# Helper Functions\n",
    "\n",
    "# These functions are defined to automate the reading and slicing process of the images\n",
    "\n",
    "# Normalize image\n",
    "def normalizeImageIntensityRange(img):\n",
    "    img[img < HOUNSFIELD_MIN] = HOUNSFIELD_MIN\n",
    "    img[img > HOUNSFIELD_MAX] = HOUNSFIELD_MAX\n",
    "    return (img - HOUNSFIELD_MIN) / HOUNSFIELD_RANGE\n",
    "\n",
    "nImg = normalizeImageIntensityRange(img)\n",
    "np.min(nImg), np.max(nImg), nImg.shape, type(nImg)"
   ]
  },
  {
   "cell_type": "code",
   "execution_count": 7,
   "id": "06f7f9b1",
   "metadata": {},
   "outputs": [
    {
     "data": {
      "text/plain": [
       "memmap([[[0., 0., 0., ..., 0., 0., 0.],\n",
       "         [0., 0., 0., ..., 0., 0., 0.],\n",
       "         [0., 0., 0., ..., 0., 0., 0.],\n",
       "         ...,\n",
       "         [0., 0., 0., ..., 0., 0., 0.],\n",
       "         [0., 0., 0., ..., 0., 0., 0.],\n",
       "         [0., 0., 0., ..., 0., 0., 0.]],\n",
       "\n",
       "        [[0., 0., 0., ..., 0., 0., 0.],\n",
       "         [0., 0., 0., ..., 0., 0., 0.],\n",
       "         [0., 0., 0., ..., 0., 0., 0.],\n",
       "         ...,\n",
       "         [0., 0., 0., ..., 0., 0., 0.],\n",
       "         [0., 0., 0., ..., 0., 0., 0.],\n",
       "         [0., 0., 0., ..., 0., 0., 0.]],\n",
       "\n",
       "        [[0., 0., 0., ..., 0., 0., 0.],\n",
       "         [0., 0., 0., ..., 0., 0., 0.],\n",
       "         [0., 0., 0., ..., 0., 0., 0.],\n",
       "         ...,\n",
       "         [0., 0., 0., ..., 0., 0., 0.],\n",
       "         [0., 0., 0., ..., 0., 0., 0.],\n",
       "         [0., 0., 0., ..., 0., 0., 0.]],\n",
       "\n",
       "        ...,\n",
       "\n",
       "        [[0., 0., 0., ..., 0., 0., 0.],\n",
       "         [0., 0., 0., ..., 0., 0., 0.],\n",
       "         [0., 0., 0., ..., 0., 0., 0.],\n",
       "         ...,\n",
       "         [0., 0., 0., ..., 0., 0., 0.],\n",
       "         [0., 0., 0., ..., 0., 0., 0.],\n",
       "         [0., 0., 0., ..., 0., 0., 0.]],\n",
       "\n",
       "        [[0., 0., 0., ..., 0., 0., 0.],\n",
       "         [0., 0., 0., ..., 0., 0., 0.],\n",
       "         [0., 0., 0., ..., 0., 0., 0.],\n",
       "         ...,\n",
       "         [0., 0., 0., ..., 0., 0., 0.],\n",
       "         [0., 0., 0., ..., 0., 0., 0.],\n",
       "         [0., 0., 0., ..., 0., 0., 0.]],\n",
       "\n",
       "        [[0., 0., 0., ..., 0., 0., 0.],\n",
       "         [0., 0., 0., ..., 0., 0., 0.],\n",
       "         [0., 0., 0., ..., 0., 0., 0.],\n",
       "         ...,\n",
       "         [0., 0., 0., ..., 0., 0., 0.],\n",
       "         [0., 0., 0., ..., 0., 0., 0.],\n",
       "         [0., 0., 0., ..., 0., 0., 0.]]])"
      ]
     },
     "execution_count": 7,
     "metadata": {},
     "output_type": "execute_result"
    }
   ],
   "source": [
    "# Read image or mask volume\n",
    "def readImageVolume(imgPath, normalize=False):\n",
    "    img = nib.load(imgPath).get_fdata()\n",
    "    if normalize:\n",
    "        return normalizeImageIntensityRange(img)\n",
    "    else:\n",
    "        return img\n",
    "    \n",
    "readImageVolume(imgPath, normalize=True)\n",
    "readImageVolume(maskPath, normalize=False)"
   ]
  },
  {
   "cell_type": "code",
   "execution_count": 8,
   "id": "6dfc04cc",
   "metadata": {},
   "outputs": [],
   "source": [
    "# Save volume slice to file\n",
    "def saveSlice(img, fname, path):\n",
    "    img = np.uint8(img * 255)\n",
    "    fout = os.path.join(path, f'{fname}.png')\n",
    "    cv2.imwrite(fout, img)\n",
    "    print(f'[+] Slice saved: {fout}', end='\\r')\n",
    "    \n",
    "#saveSlice(nImg[20,:,:], 'test', imageSliceOutput)\n",
    "#saveSlice(mask[20,:,:], 'test', maskSliceOutput)"
   ]
  },
  {
   "cell_type": "code",
   "execution_count": 9,
   "id": "9ea81b5b",
   "metadata": {},
   "outputs": [],
   "source": [
    "def sliceAndSaveVolumeImage(vol, fname, path):\n",
    "    (dimx, dimy, dimz) = vol.shape\n",
    "    print(dimx, dimy, dimz)\n",
    "    cnt = 0\n",
    "    #difine a function to remove extra\n",
    "    #def\n",
    "    #...sum(figure)==0\n",
    "    #return\n",
    "    if SLICE_X:\n",
    "        cnt += dimx\n",
    "        #print('Slicing X: ')\n",
    "        for i in range(dimx//5, 4*dimx//5):\n",
    "            saveSlice(vol[i,:,:], fname+f'-slice{str(i).zfill(SLICE_DECIMATE_IDENTIFIER)}_x', path)\n",
    "            \n",
    "    if SLICE_Y:\n",
    "        #cnt += dimy\n",
    "        cnt += dimyEnd[index]+1-dimyStart[index]\n",
    "        #print('Slicing Y: ')\n",
    "        #for i in range(dimy//5, 4*dimy//5):\n",
    "        for i in range(dimyStart[index],dimyEnd[index]+1):\n",
    "            saveSlice(vol[:,i,:], fname+f'-slice{str(i).zfill(SLICE_DECIMATE_IDENTIFIER)}_y', path)\n",
    "            \n",
    "    if SLICE_Z:\n",
    "        #cnt += dimz\n",
    "        cnt += dimzEnd[index]+1-dimzStart[index]\n",
    "        #print('Slicing Z: ')\n",
    "        #for i in range(dimz//5, 4*dimz//5):\n",
    "        for i in range(dimzStart[index],dimzEnd[index]+1):\n",
    "            saveSlice(vol[:,:,i], fname+f'-slice{str(i).zfill(SLICE_DECIMATE_IDENTIFIER)}_z', path)\n",
    "    return cnt"
   ]
  },
  {
   "cell_type": "code",
   "execution_count": 10,
   "id": "e02edf63",
   "metadata": {},
   "outputs": [
    {
     "name": "stdout",
     "output_type": "stream",
     "text": [
      "Number of patients= 4\n",
      "volumes\\mask_test\\P12_Segmentation_09_28.nii (179, 79, 374) 632 0.0 1.0\n",
      "179 79 374\n",
      "yStart= 9 Sum= 769.0\n",
      "yEnd= 71 Sum= 558.0\n",
      "zStart= 251 Sum= 506.0\n",
      "zEnd= 333 Sum= 578.0\n",
      "9 71 251 333\n",
      "volumes\\mask_test\\P15_Segmentation_10_03.nii (249, 235, 217) 701 0.0 1.0\n",
      "249 235 217\n",
      "yStart= 17 Sum= 554.0\n",
      "yEnd= 143 Sum= 542.0\n",
      "zStart= 84 Sum= 580.0\n",
      "zEnd= 193 Sum= 607.0\n",
      "17 143 84 193\n",
      "volumes\\mask_test\\P1_Segmentation_08_17.nii (277, 219, 152) 648 0.0 1.0\n",
      "277 219 152\n",
      "yStart= 33 Sum= 567.0\n",
      "yEnd= 185 Sum= 502.0\n",
      "zStart= 0 Sum= 625.0\n",
      "zEnd= 114 Sum= 511.0\n",
      "33 185 0 114\n",
      "volumes\\mask_test\\P8_Segmentation_09_27.nii (196, 176, 776) 1148 0.0 1.0\n",
      "196 176 776\n",
      "yStart= 26 Sum= 604.0\n",
      "yEnd= 161 Sum= 533.0\n",
      "zStart= 149 Sum= 503.0\n",
      "zEnd= 718 Sum= 532.0\n",
      "26 161 149 718\n"
     ]
    }
   ],
   "source": [
    "def getStartAndEndOfTheSlice(vol, fname, path):\n",
    "    (dimx, dimy, dimz) = vol.shape\n",
    "    print(dimx, dimy, dimz)\n",
    "    #difine a function to remove extra\n",
    "    dimyStart=0\n",
    "    dimyEnd=0\n",
    "    dimzStart=0\n",
    "    dimzEnd=0\n",
    "    for i in range(dimy):\n",
    "        if np.sum(vol[:,i,:])>MaskThreshold:\n",
    "            dimyStart=i\n",
    "            print('yStart=',dimyStart,'Sum=',np.sum(vol[:,i,:]))\n",
    "            break\n",
    "    for i in reversed(range(dimy)):\n",
    "        if np.sum(vol[:,i,:])>MaskThreshold:\n",
    "            dimyEnd=i\n",
    "            print('yEnd=',dimyEnd,'Sum=',np.sum(vol[:,i,:]))\n",
    "            break\n",
    "            \n",
    "    for i in range(dimz):\n",
    "        if np.sum(vol[:,:,i])>MaskThreshold:\n",
    "            dimzStart=i\n",
    "            print('zStart=',dimzStart,'Sum=',np.sum(vol[:,:,i]))\n",
    "            break\n",
    "    for i in reversed(range(dimz)):\n",
    "        if np.sum(vol[:,:,i])>MaskThreshold:\n",
    "            dimzEnd=i\n",
    "            print('zEnd=',dimzEnd,'Sum=',np.sum(vol[:,:,i]))\n",
    "            break\n",
    "    return dimyStart,dimyEnd,dimzStart,dimzEnd\n",
    "\n",
    "for index, filename in enumerate(sorted(glob.iglob(maskPathInput+'*.nii'))):\n",
    "    numOfPatients=index+1\n",
    "print('Number of patients=',numOfPatients)\n",
    "dimyStart=np.zeros(numOfPatients, dtype=int)\n",
    "dimyEnd  =np.zeros(numOfPatients, dtype=int)\n",
    "dimzStart=np.zeros(numOfPatients, dtype=int)\n",
    "dimzEnd  =np.zeros(numOfPatients, dtype=int)\n",
    "    \n",
    "for index, filename in enumerate(sorted(glob.iglob(maskPathInput+'*.nii'))):\n",
    "    img = readImageVolume(filename, False)\n",
    "    print(filename, img.shape, np.sum(img.shape), np.min(img), np.max(img))\n",
    "    dimyStart[index],dimyEnd[index],dimzStart[index],dimzEnd[index] = getStartAndEndOfTheSlice(img, 'patient'+str(index+1), maskSliceOutput)\n",
    "    print(dimyStart[index],dimyEnd[index],dimzStart[index],dimzEnd[index])"
   ]
  },
  {
   "cell_type": "code",
   "execution_count": 11,
   "id": "316e4b8d",
   "metadata": {
    "scrolled": true
   },
   "outputs": [
    {
     "name": "stdout",
     "output_type": "stream",
     "text": [
      "Save Z\n",
      "volumes\\img_test\\P12_CTA_Chest_09_28.nii (179, 79, 374) 632 0.0 1.0\n",
      "179 79 374\n",
      "[+] Slice saved: slices/test/img/img/patient1-slice333_z.png\n",
      "volumes\\img_test\\P12_CTA_Chest_09_28.nii, 83 slices created \n",
      "\n",
      "Save Z\n",
      "volumes\\img_test\\P15_CTA_Chest_10_03.nii (249, 235, 217) 701 0.0 1.0\n",
      "249 235 217\n",
      "[+] Slice saved: slices/test/img/img/patient2-slice193_z.png\n",
      "volumes\\img_test\\P15_CTA_Chest_10_03.nii, 110 slices created \n",
      "\n",
      "Save Z\n",
      "volumes\\img_test\\P1_CTA_Chest_08_17.nii (277, 219, 152) 648 0.0 1.0\n",
      "277 219 152\n",
      "[+] Slice saved: slices/test/img/img/patient3-slice114_z.png\n",
      "volumes\\img_test\\P1_CTA_Chest_08_17.nii, 115 slices created \n",
      "\n",
      "Save Z\n",
      "volumes\\img_test\\P8_CTA_Chest_09_27.nii (196, 176, 776) 1148 0.0 1.0\n",
      "196 176 776\n",
      "[+] Slice saved: slices/test/img/img/patient4-slice718_z.png\n",
      "volumes\\img_test\\P8_CTA_Chest_09_27.nii, 570 slices created \n",
      "\n"
     ]
    }
   ],
   "source": [
    "# Read and process image volumes\n",
    "for index, filename in enumerate(sorted(glob.iglob(imagePathInput+'*.nii'))):\n",
    "    if index==P_3:\n",
    "        SLICE_X = False\n",
    "        SLICE_Y = True\n",
    "        SLICE_Z = False\n",
    "        print('Save Y')\n",
    "    else:\n",
    "        SLICE_X = False\n",
    "        SLICE_Y = False\n",
    "        SLICE_Z = True\n",
    "        print('Save Z')\n",
    "    img = readImageVolume(filename, True)\n",
    "    print(filename, img.shape, np.sum(img.shape), np.min(img), np.max(img))\n",
    "    numOfSlices = sliceAndSaveVolumeImage(img, 'patient'+str(index+1), imageSliceOutput)\n",
    "    print(f'\\n{filename}, {numOfSlices} slices created \\n')"
   ]
  },
  {
   "cell_type": "code",
   "execution_count": 12,
   "id": "ac266343",
   "metadata": {
    "scrolled": true
   },
   "outputs": [
    {
     "name": "stdout",
     "output_type": "stream",
     "text": [
      "Save Z\n",
      "volumes\\mask_test\\P12_Segmentation_09_28.nii (179, 79, 374) 632 0.0 1.0\n",
      "179 79 374\n",
      "[+] Slice saved: slices/test/mask/img/patient1-slice333_z.png\n",
      "volumes\\mask_test\\P12_Segmentation_09_28.nii, 83 slices created \n",
      "\n",
      "Save Z\n",
      "volumes\\mask_test\\P15_Segmentation_10_03.nii (249, 235, 217) 701 0.0 1.0\n",
      "249 235 217\n",
      "[+] Slice saved: slices/test/mask/img/patient2-slice193_z.png\n",
      "volumes\\mask_test\\P15_Segmentation_10_03.nii, 110 slices created \n",
      "\n",
      "Save Z\n",
      "volumes\\mask_test\\P1_Segmentation_08_17.nii (277, 219, 152) 648 0.0 1.0\n",
      "277 219 152\n",
      "[+] Slice saved: slices/test/mask/img/patient3-slice114_z.png\n",
      "volumes\\mask_test\\P1_Segmentation_08_17.nii, 115 slices created \n",
      "\n",
      "Save Z\n",
      "volumes\\mask_test\\P8_Segmentation_09_27.nii (196, 176, 776) 1148 0.0 1.0\n",
      "196 176 776\n",
      "[+] Slice saved: slices/test/mask/img/patient4-slice718_z.png\n",
      "volumes\\mask_test\\P8_Segmentation_09_27.nii, 570 slices created \n",
      "\n"
     ]
    }
   ],
   "source": [
    "# Read and process image mask volumes\n",
    "for index, filename in enumerate(sorted(glob.iglob(maskPathInput+'*.nii'))):\n",
    "    if index==P_3:\n",
    "        SLICE_X = False\n",
    "        SLICE_Y = True\n",
    "        SLICE_Z = False\n",
    "        print('Save Y')\n",
    "    else:\n",
    "        SLICE_X = False\n",
    "        SLICE_Y = False\n",
    "        SLICE_Z = True\n",
    "        print('Save Z')\n",
    "    img = readImageVolume(filename, False)\n",
    "    print(filename, img.shape, np.sum(img.shape), np.min(img), np.max(img))\n",
    "    numOfSlices = sliceAndSaveVolumeImage(img, 'patient'+str(index+1), maskSliceOutput)\n",
    "    print(f'\\n{filename}, {numOfSlices} slices created \\n')"
   ]
  },
  {
   "cell_type": "code",
   "execution_count": 13,
   "id": "9e75aae0",
   "metadata": {},
   "outputs": [
    {
     "data": {
      "application/vnd.jupyter.widget-view+json": {
       "model_id": "6dc85d7a53c345d9b27807a0512dbcdb",
       "version_major": 2,
       "version_minor": 0
      },
      "text/plain": [
       "interactive(children=(IntSlider(value=9, description='n', max=71, min=9), Output()), _dom_classes=('widget-int…"
      ]
     },
     "metadata": {},
     "output_type": "display_data"
    },
    {
     "data": {
      "application/vnd.jupyter.widget-view+json": {
       "model_id": "38c295816815469493ae4d188065c755",
       "version_major": 2,
       "version_minor": 0
      },
      "text/plain": [
       "interactive(children=(IntSlider(value=251, description='n', max=333, min=251), Output()), _dom_classes=('widge…"
      ]
     },
     "metadata": {},
     "output_type": "display_data"
    }
   ],
   "source": [
    "from ipywidgets import interact\n",
    "\n",
    "@interact(n=(dimyStart[0],dimyEnd[0]))\n",
    "def display_faces(n=0):\n",
    "    #plt.figure()\n",
    "    #plt.imshow(mask[:, n, :], cmap='gray')\n",
    "    fig, ax  = plt.subplots(1,2)\n",
    "    ax[0].imshow(nImg[:, n, :], cmap='gray')\n",
    "    ax[1].imshow(mask[:, n, :], cmap='gray')\n",
    "    plt.show()\n",
    "    print(np.sum(mask[:, n, :]))\n",
    "\n",
    "@interact(n=(dimzStart[0],dimzEnd[0]))\n",
    "def display_faces(n=0):\n",
    "    #plt.figure()\n",
    "    #plt.imshow(mask[:, :, n], cmap='gray')\n",
    "    fig, ax  = plt.subplots(1,2)\n",
    "    ax[0].imshow(nImg[:, :, n], cmap='gray')\n",
    "    ax[1].imshow(mask[:, :, n], cmap='gray')\n",
    "    plt.show()\n",
    "    print(np.sum(mask[:, :, n]))"
   ]
  },
  {
   "cell_type": "code",
   "execution_count": 14,
   "id": "7d12f0a9",
   "metadata": {},
   "outputs": [],
   "source": [
    "#End of the Code"
   ]
  }
 ],
 "metadata": {
  "kernelspec": {
   "display_name": "Python 3 (ipykernel)",
   "language": "python",
   "name": "python3"
  },
  "language_info": {
   "codemirror_mode": {
    "name": "ipython",
    "version": 3
   },
   "file_extension": ".py",
   "mimetype": "text/x-python",
   "name": "python",
   "nbconvert_exporter": "python",
   "pygments_lexer": "ipython3",
   "version": "3.9.12"
  }
 },
 "nbformat": 4,
 "nbformat_minor": 5
}
