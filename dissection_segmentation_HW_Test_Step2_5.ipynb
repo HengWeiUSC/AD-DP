{
 "cells": [
  {
   "cell_type": "markdown",
   "id": "fac37d5f",
   "metadata": {},
   "source": [
    "# Aortic Dissection Auto-segmentation for Computed Tomography (CT) "
   ]
  },
  {
   "cell_type": "markdown",
   "id": "967d9d91",
   "metadata": {},
   "source": [
    "This notebook is prepared for step-by-step description of auto-segmentation from the CT images of aortic dissection patients underwent TEVAR in Keck medical center."
   ]
  },
  {
   "cell_type": "code",
   "execution_count": 1,
   "id": "10319869",
   "metadata": {},
   "outputs": [],
   "source": [
    "# Import Packages\n",
    "\n",
    "import numpy as np\n",
    "import pandas as pd\n",
    "import nibabel as nib\n",
    "import matplotlib.pyplot as plt\n",
    "import json\n",
    "import cv2\n",
    "import imageio\n",
    "import os, glob\n",
    "from PIL import Image\n",
    "\n",
    "import tensorflow as tf\n",
    "from tensorflow import keras\n",
    "from tensorflow.keras import backend as K \n",
    "from tensorflow.keras.utils import to_categorical\n",
    "from tensorflow.keras.preprocessing.image import ImageDataGenerator \n",
    "\n",
    "\n",
    "import seaborn as sns\n",
    "import umetrics"
   ]
  },
  {
   "cell_type": "code",
   "execution_count": 2,
   "id": "5e9eceeb",
   "metadata": {},
   "outputs": [],
   "source": [
    "#Delete the extra first!"
   ]
  },
  {
   "cell_type": "code",
   "execution_count": 3,
   "id": "62a6ed19",
   "metadata": {},
   "outputs": [
    {
     "name": "stdout",
     "output_type": "stream",
     "text": [
      "Found 4181 images belonging to 1 classes.\n",
      "Found 4181 images belonging to 1 classes.\n"
     ]
    }
   ],
   "source": [
    "# Define constants\n",
    "SEED = 909\n",
    "BATCH_SIZE_TRAIN = 32\n",
    "BATCH_SIZE_TEST = 32\n",
    "\n",
    "IMAGE_HEIGHT = 256\n",
    "IMAGE_WIDTH = 256\n",
    "IMG_SIZE = (IMAGE_HEIGHT, IMAGE_WIDTH)\n",
    "\n",
    "data_dir = 'slices/'\n",
    "data_dir_train = os.path.join(data_dir, 'training')\n",
    "# The images should be stored under: \"data/slices/training/img/img\"\n",
    "data_dir_train_image = os.path.join(data_dir_train, 'img')\n",
    "# The images should be stored under: \"data/slices/training/mask/img\"\n",
    "data_dir_train_mask = os.path.join(data_dir_train, 'mask')\n",
    "\n",
    "save_img_path = os.path.join(data_dir_train, 'img/img')\n",
    "save_mask_path = os.path.join(data_dir_train, 'mask/img')\n",
    "\n",
    "data_dir_test = os.path.join(data_dir, 'test')\n",
    "# The images should be stored under: \"data/slices/test/img/img\"\n",
    "data_dir_test_image = os.path.join(data_dir_test, 'img')\n",
    "# The images should be stored under: \"data/slices/test/mask/img\"\n",
    "data_dir_test_mask = os.path.join(data_dir_test, 'mask')\n",
    "\n",
    "def create_segmentation_generator_train(img_path, msk_path, BATCH_SIZE):\n",
    "    data_gen_args = dict(rescale=1.0,\n",
    "                         #featurewise_center=True,\n",
    "                         #featurewise_std_normalization=True,\n",
    "                         rotation_range=45,\n",
    "                         width_shift_range=0.2,\n",
    "                         height_shift_range=0.2,\n",
    "                         zoom_range=0.3,\n",
    "                         fill_mode=\"wrap\",\n",
    "                        )\n",
    "    datagen = ImageDataGenerator(**data_gen_args)\n",
    "    \n",
    "    img_generator = datagen.flow_from_directory(img_path, target_size=IMG_SIZE, class_mode=None, color_mode='grayscale', batch_size=1, seed=SEED, save_to_dir=save_img_path, save_prefix=\"aug\", save_format=\"png\")\n",
    "    total_image = 4181\n",
    "    aug_ratio = 5\n",
    "    i = 0\n",
    "    for save_image in img_generator:\n",
    "        if (i == total_image*aug_ratio-1):\n",
    "            break\n",
    "        i += 1\n",
    "    \n",
    "    msk_generator = datagen.flow_from_directory(msk_path, target_size=IMG_SIZE, class_mode=None, color_mode='grayscale', batch_size=1, seed=SEED, save_to_dir=save_mask_path, save_prefix=\"aug\", save_format=\"png\")\n",
    "    i = 0\n",
    "    for save_image in msk_generator:\n",
    "        if (i == total_image*aug_ratio-1):\n",
    "            break\n",
    "        i += 1\n",
    "    \n",
    "    return (pair for pair in zip(img_generator, msk_generator))\n",
    "\n",
    "#Apply the generator functions on the training and test data\n",
    "train_generator = create_segmentation_generator_train(data_dir_train_image, data_dir_train_mask, 1)"
   ]
  },
  {
   "cell_type": "code",
   "execution_count": 4,
   "id": "8ea6bbae",
   "metadata": {},
   "outputs": [],
   "source": [
    "#End of the Code"
   ]
  }
 ],
 "metadata": {
  "kernelspec": {
   "display_name": "Python 3 (ipykernel)",
   "language": "python",
   "name": "python3"
  },
  "language_info": {
   "codemirror_mode": {
    "name": "ipython",
    "version": 3
   },
   "file_extension": ".py",
   "mimetype": "text/x-python",
   "name": "python",
   "nbconvert_exporter": "python",
   "pygments_lexer": "ipython3",
   "version": "3.9.12"
  }
 },
 "nbformat": 4,
 "nbformat_minor": 5
}
